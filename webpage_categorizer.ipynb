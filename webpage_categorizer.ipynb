{
  "nbformat": 4,
  "nbformat_minor": 0,
  "metadata": {
    "colab": {
      "name": "webpage_categorizer.ipynb",
      "provenance": [],
      "collapsed_sections": []
    },
    "kernelspec": {
      "name": "python3",
      "display_name": "Python 3"
    },
    "language_info": {
      "name": "python"
    }
  },
  "cells": [
    {
      "cell_type": "markdown",
      "metadata": {
        "id": "26vftiYawoAn"
      },
      "source": [
        "Importing necessary libraries\n",
        "\n",
        "\n",
        "\n",
        "\n"
      ]
    },
    {
      "cell_type": "code",
      "metadata": {
        "id": "Xr2j8DL_GBas"
      },
      "source": [
        "import numpy as np\n",
        "import pandas as pd"
      ],
      "execution_count": null,
      "outputs": []
    },
    {
      "cell_type": "code",
      "metadata": {
        "id": "DHgmVoOfJCUY"
      },
      "source": [
        "#reading dataset\n",
        "dataset = pd.read_csv(\"website_classification.csv\",index_col=[0])"
      ],
      "execution_count": null,
      "outputs": []
    },
    {
      "cell_type": "code",
      "metadata": {
        "id": "9anrEfp0w3MF"
      },
      "source": [
        ""
      ],
      "execution_count": null,
      "outputs": []
    },
    {
      "cell_type": "markdown",
      "metadata": {
        "id": "nCWCu0otwm7e"
      },
      "source": [
        "Modifying dataset"
      ]
    },
    {
      "cell_type": "code",
      "metadata": {
        "id": "gr4QaNTKJf9L"
      },
      "source": [
        "dataset['Category'] = dataset['Category'].replace({\"Travel\":\"Listing\",\n",
        "                                                   \"Photography\":\"Video and Image\",\n",
        "                                                   \"Adult\":\"Video and Image\",\n",
        "                                                   \"Games\":\"Video and Image\",\n",
        "                                                   \"Streaming Services\":\"Video and Image\",\n",
        "                                                   \"News\":\"Article\",\n",
        "                                                   \"Food\":\"Article\",\n",
        "                                                   \"Sports\":\"Article\",\n",
        "                                                   \"Law and Government\":\"Article\",\n",
        "                                                   \"Forums\":\"Article\",\n",
        "                                                   \"Health and Fitness\":\"Article\",\n",
        "                                                   \"Education\":\"Article\",\n",
        "                                                   \"Computers and Technology\":\"Article\",\n",
        "                                                   \"Business/Corporate\":\"Article\",\n",
        "                                                   })"
      ],
      "execution_count": null,
      "outputs": []
    },
    {
      "cell_type": "code",
      "metadata": {
        "colab": {
          "base_uri": "https://localhost:8080/",
          "height": 419
        },
        "id": "R8Qi9ZkOKirc",
        "outputId": "3bee1c4a-f891-4426-b512-274213eaf7f2"
      },
      "source": [
        "dataset"
      ],
      "execution_count": null,
      "outputs": [
        {
          "output_type": "execute_result",
          "data": {
            "text/html": [
              "<div>\n",
              "<style scoped>\n",
              "    .dataframe tbody tr th:only-of-type {\n",
              "        vertical-align: middle;\n",
              "    }\n",
              "\n",
              "    .dataframe tbody tr th {\n",
              "        vertical-align: top;\n",
              "    }\n",
              "\n",
              "    .dataframe thead th {\n",
              "        text-align: right;\n",
              "    }\n",
              "</style>\n",
              "<table border=\"1\" class=\"dataframe\">\n",
              "  <thead>\n",
              "    <tr style=\"text-align: right;\">\n",
              "      <th></th>\n",
              "      <th>website_url</th>\n",
              "      <th>cleaned_website_text</th>\n",
              "      <th>Category</th>\n",
              "    </tr>\n",
              "  </thead>\n",
              "  <tbody>\n",
              "    <tr>\n",
              "      <th>0</th>\n",
              "      <td>https://www.booking.com/index.html?aid=1743217</td>\n",
              "      <td>official site good hotel accommodation big sav...</td>\n",
              "      <td>Listing</td>\n",
              "    </tr>\n",
              "    <tr>\n",
              "      <th>1</th>\n",
              "      <td>https://travelsites.com/expedia/</td>\n",
              "      <td>expedia hotel book sites like use vacation wor...</td>\n",
              "      <td>Listing</td>\n",
              "    </tr>\n",
              "    <tr>\n",
              "      <th>2</th>\n",
              "      <td>https://travelsites.com/tripadvisor/</td>\n",
              "      <td>tripadvisor hotel book sites like previously d...</td>\n",
              "      <td>Listing</td>\n",
              "    </tr>\n",
              "    <tr>\n",
              "      <th>3</th>\n",
              "      <td>https://www.momondo.in/?ispredir=true</td>\n",
              "      <td>cheap flights search compare flights momondo f...</td>\n",
              "      <td>Listing</td>\n",
              "    </tr>\n",
              "    <tr>\n",
              "      <th>4</th>\n",
              "      <td>https://www.ebookers.com/?AFFCID=EBOOKERS-UK.n...</td>\n",
              "      <td>bot create free account create free account si...</td>\n",
              "      <td>Listing</td>\n",
              "    </tr>\n",
              "    <tr>\n",
              "      <th>...</th>\n",
              "      <td>...</td>\n",
              "      <td>...</td>\n",
              "      <td>...</td>\n",
              "    </tr>\n",
              "    <tr>\n",
              "      <th>1403</th>\n",
              "      <td>http://www.oldwomen.org/</td>\n",
              "      <td>old nude women porn mature granny sex horny ol...</td>\n",
              "      <td>Video and Image</td>\n",
              "    </tr>\n",
              "    <tr>\n",
              "      <th>1404</th>\n",
              "      <td>http://www.webcamslave.com</td>\n",
              "      <td>bdsm cams bdsm chat bondage cams free bdsm vid...</td>\n",
              "      <td>Video and Image</td>\n",
              "    </tr>\n",
              "    <tr>\n",
              "      <th>1405</th>\n",
              "      <td>http://www.buyeuroporn.com/</td>\n",
              "      <td>porno dvd online european porn dvd cheap adult...</td>\n",
              "      <td>Video and Image</td>\n",
              "    </tr>\n",
              "    <tr>\n",
              "      <th>1406</th>\n",
              "      <td>http://www.analdreamhouse.com/30/03/agecheck/i...</td>\n",
              "      <td>anal dream house anal dream house anal dream h...</td>\n",
              "      <td>Video and Image</td>\n",
              "    </tr>\n",
              "    <tr>\n",
              "      <th>1407</th>\n",
              "      <td>http://www.world-sex-news.com/</td>\n",
              "      <td>world sex news daily sex news adult news eroti...</td>\n",
              "      <td>Video and Image</td>\n",
              "    </tr>\n",
              "  </tbody>\n",
              "</table>\n",
              "<p>1408 rows × 3 columns</p>\n",
              "</div>"
            ],
            "text/plain": [
              "                                            website_url  ...         Category\n",
              "0        https://www.booking.com/index.html?aid=1743217  ...          Listing\n",
              "1                      https://travelsites.com/expedia/  ...          Listing\n",
              "2                  https://travelsites.com/tripadvisor/  ...          Listing\n",
              "3                 https://www.momondo.in/?ispredir=true  ...          Listing\n",
              "4     https://www.ebookers.com/?AFFCID=EBOOKERS-UK.n...  ...          Listing\n",
              "...                                                 ...  ...              ...\n",
              "1403                           http://www.oldwomen.org/  ...  Video and Image\n",
              "1404                         http://www.webcamslave.com  ...  Video and Image\n",
              "1405                        http://www.buyeuroporn.com/  ...  Video and Image\n",
              "1406  http://www.analdreamhouse.com/30/03/agecheck/i...  ...  Video and Image\n",
              "1407                     http://www.world-sex-news.com/  ...  Video and Image\n",
              "\n",
              "[1408 rows x 3 columns]"
            ]
          },
          "metadata": {
            "tags": []
          },
          "execution_count": 18
        }
      ]
    },
    {
      "cell_type": "code",
      "metadata": {
        "colab": {
          "base_uri": "https://localhost:8080/"
        },
        "id": "n4Od0iEjPOfO",
        "outputId": "b9ddd761-9c9d-42d8-a7fd-92e2b0641aa4"
      },
      "source": [
        "pd.unique(dataset['Category'])"
      ],
      "execution_count": null,
      "outputs": [
        {
          "output_type": "execute_result",
          "data": {
            "text/plain": [
              "array(['Listing', 'Social Networking and Messaging', 'Article',\n",
              "       'Video and Image', 'E-Commerce'], dtype=object)"
            ]
          },
          "metadata": {
            "tags": []
          },
          "execution_count": 22
        }
      ]
    },
    {
      "cell_type": "code",
      "metadata": {
        "id": "vbb_foMOPxEX"
      },
      "source": [
        "dataset['Category'] = dataset['Category'].replace({\"Social Networking and Messaging\":\"Article\"\n",
        "                                                  })"
      ],
      "execution_count": null,
      "outputs": []
    },
    {
      "cell_type": "code",
      "metadata": {
        "colab": {
          "base_uri": "https://localhost:8080/",
          "height": 419
        },
        "id": "Rb_jg3LW7Kof",
        "outputId": "84b88227-1b61-4e60-d7ec-f1f014125856"
      },
      "source": [
        "pd.read_csv(\"cleaned_website_classification.csv\")"
      ],
      "execution_count": null,
      "outputs": [
        {
          "output_type": "execute_result",
          "data": {
            "text/html": [
              "<div>\n",
              "<style scoped>\n",
              "    .dataframe tbody tr th:only-of-type {\n",
              "        vertical-align: middle;\n",
              "    }\n",
              "\n",
              "    .dataframe tbody tr th {\n",
              "        vertical-align: top;\n",
              "    }\n",
              "\n",
              "    .dataframe thead th {\n",
              "        text-align: right;\n",
              "    }\n",
              "</style>\n",
              "<table border=\"1\" class=\"dataframe\">\n",
              "  <thead>\n",
              "    <tr style=\"text-align: right;\">\n",
              "      <th></th>\n",
              "      <th>website_url</th>\n",
              "      <th>cleaned_website_text</th>\n",
              "      <th>Category</th>\n",
              "    </tr>\n",
              "  </thead>\n",
              "  <tbody>\n",
              "    <tr>\n",
              "      <th>0</th>\n",
              "      <td>https://www.booking.com/index.html?aid=1743217</td>\n",
              "      <td>official site good hotel accommodation big sav...</td>\n",
              "      <td>Listing</td>\n",
              "    </tr>\n",
              "    <tr>\n",
              "      <th>1</th>\n",
              "      <td>https://travelsites.com/expedia/</td>\n",
              "      <td>expedia hotel book sites like use vacation wor...</td>\n",
              "      <td>Listing</td>\n",
              "    </tr>\n",
              "    <tr>\n",
              "      <th>2</th>\n",
              "      <td>https://travelsites.com/tripadvisor/</td>\n",
              "      <td>tripadvisor hotel book sites like previously d...</td>\n",
              "      <td>Listing</td>\n",
              "    </tr>\n",
              "    <tr>\n",
              "      <th>3</th>\n",
              "      <td>https://www.momondo.in/?ispredir=true</td>\n",
              "      <td>cheap flights search compare flights momondo f...</td>\n",
              "      <td>Listing</td>\n",
              "    </tr>\n",
              "    <tr>\n",
              "      <th>4</th>\n",
              "      <td>https://www.ebookers.com/?AFFCID=EBOOKERS-UK.n...</td>\n",
              "      <td>bot create free account create free account si...</td>\n",
              "      <td>Listing</td>\n",
              "    </tr>\n",
              "    <tr>\n",
              "      <th>...</th>\n",
              "      <td>...</td>\n",
              "      <td>...</td>\n",
              "      <td>...</td>\n",
              "    </tr>\n",
              "    <tr>\n",
              "      <th>1403</th>\n",
              "      <td>http://www.oldwomen.org/</td>\n",
              "      <td>old nude women porn mature granny sex horny ol...</td>\n",
              "      <td>Video and Image</td>\n",
              "    </tr>\n",
              "    <tr>\n",
              "      <th>1404</th>\n",
              "      <td>http://www.webcamslave.com</td>\n",
              "      <td>bdsm cams bdsm chat bondage cams free bdsm vid...</td>\n",
              "      <td>Video and Image</td>\n",
              "    </tr>\n",
              "    <tr>\n",
              "      <th>1405</th>\n",
              "      <td>http://www.buyeuroporn.com/</td>\n",
              "      <td>porno dvd online european porn dvd cheap adult...</td>\n",
              "      <td>Video and Image</td>\n",
              "    </tr>\n",
              "    <tr>\n",
              "      <th>1406</th>\n",
              "      <td>http://www.analdreamhouse.com/30/03/agecheck/i...</td>\n",
              "      <td>anal dream house anal dream house anal dream h...</td>\n",
              "      <td>Video and Image</td>\n",
              "    </tr>\n",
              "    <tr>\n",
              "      <th>1407</th>\n",
              "      <td>http://www.world-sex-news.com/</td>\n",
              "      <td>world sex news daily sex news adult news eroti...</td>\n",
              "      <td>Video and Image</td>\n",
              "    </tr>\n",
              "  </tbody>\n",
              "</table>\n",
              "<p>1408 rows × 3 columns</p>\n",
              "</div>"
            ],
            "text/plain": [
              "                                            website_url  ...         Category\n",
              "0        https://www.booking.com/index.html?aid=1743217  ...          Listing\n",
              "1                      https://travelsites.com/expedia/  ...          Listing\n",
              "2                  https://travelsites.com/tripadvisor/  ...          Listing\n",
              "3                 https://www.momondo.in/?ispredir=true  ...          Listing\n",
              "4     https://www.ebookers.com/?AFFCID=EBOOKERS-UK.n...  ...          Listing\n",
              "...                                                 ...  ...              ...\n",
              "1403                           http://www.oldwomen.org/  ...  Video and Image\n",
              "1404                         http://www.webcamslave.com  ...  Video and Image\n",
              "1405                        http://www.buyeuroporn.com/  ...  Video and Image\n",
              "1406  http://www.analdreamhouse.com/30/03/agecheck/i...  ...  Video and Image\n",
              "1407                     http://www.world-sex-news.com/  ...  Video and Image\n",
              "\n",
              "[1408 rows x 3 columns]"
            ]
          },
          "metadata": {
            "tags": []
          },
          "execution_count": 95
        }
      ]
    },
    {
      "cell_type": "markdown",
      "metadata": {
        "id": "jyIgSVHGxT1d"
      },
      "source": [
        "Building the model"
      ]
    },
    {
      "cell_type": "code",
      "metadata": {
        "id": "xKLEy5UvQFgL"
      },
      "source": [
        "from sklearn.feature_extraction.text import CountVectorizer\n",
        "from sklearn.feature_extraction.text import TfidfTransformer\n",
        "from sklearn.neighbors import KNeighborsClassifier\n",
        "from sklearn.pipeline import Pipeline\n",
        "from sklearn.model_selection import train_test_split"
      ],
      "execution_count": null,
      "outputs": []
    },
    {
      "cell_type": "code",
      "metadata": {
        "colab": {
          "base_uri": "https://localhost:8080/"
        },
        "id": "eNHWiuq5f-en",
        "outputId": "b806bbb4-aed8-4e14-a7e3-b6c9eff0409e"
      },
      "source": [
        "dataset['Category'].value_counts()"
      ],
      "execution_count": null,
      "outputs": [
        {
          "output_type": "execute_result",
          "data": {
            "text/plain": [
              "Article            887\n",
              "Video and Image    312\n",
              "Listing            107\n",
              "E-Commerce         102\n",
              "Name: Category, dtype: int64"
            ]
          },
          "metadata": {
            "tags": []
          },
          "execution_count": 49
        }
      ]
    },
    {
      "cell_type": "code",
      "metadata": {
        "id": "EU0Tn3gAiXxa"
      },
      "source": [
        "y=dataset['Category']\n",
        "X = dataset.drop(columns=['Category'])\n",
        "X_train, X_val, y_train, y_val = train_test_split(X, y, test_size=0.2, stratify=y,random_state = 42) #stratified split as sample counts are\n",
        "#disproportionate"
      ],
      "execution_count": null,
      "outputs": []
    },
    {
      "cell_type": "code",
      "metadata": {
        "id": "ip_FbCW7gIL8"
      },
      "source": [
        "count_vect = CountVectorizer()\n",
        "X_train_counts = count_vect.fit_transform(X_train.cleaned_website_text)\n",
        "tfidf_transformer = TfidfTransformer()\n",
        "X_train_tfidf = tfidf_transformer.fit_transform(X_train_counts)"
      ],
      "execution_count": null,
      "outputs": []
    },
    {
      "cell_type": "code",
      "metadata": {
        "id": "Rh8i3rjQiV9R"
      },
      "source": [
        "knn = KNeighborsClassifier(n_neighbors=7)\n",
        "\n",
        "# training our classifier ; train_data.target will be having numbers assigned for each category in train data\n",
        "clf = knn.fit(X_train_tfidf, y_train)\n"
      ],
      "execution_count": null,
      "outputs": []
    },
    {
      "cell_type": "code",
      "metadata": {
        "id": "JSa5pT3ugTqV"
      },
      "source": [
        "#The description of www.amazon.com\n",
        "docs_new = ['Top brands for Phones and Electronics. Latest trends in Fashion. Free Shipping available* Choose from a vast selection of the best quality products. 100% Purchase protection.']"
      ],
      "execution_count": null,
      "outputs": []
    },
    {
      "cell_type": "code",
      "metadata": {
        "colab": {
          "base_uri": "https://localhost:8080/"
        },
        "id": "h-HthPH7gl0K",
        "outputId": "ea344073-94f8-444e-f9b6-c58dce07447a"
      },
      "source": [
        "#Model prediction\n",
        "X_new_counts = count_vect.transform(docs_new)\n",
        "X_new_tfidf = tfidf_transformer.transform(X_new_counts)\n",
        "predicted = clf.predict(X_new_tfidf)\n",
        "\n",
        "for doc, category in zip(docs_new, predicted):\n",
        "    print((predicted))"
      ],
      "execution_count": null,
      "outputs": [
        {
          "output_type": "stream",
          "text": [
            "['E-Commerce']\n"
          ],
          "name": "stdout"
        }
      ]
    },
    {
      "cell_type": "code",
      "metadata": {
        "colab": {
          "base_uri": "https://localhost:8080/"
        },
        "id": "WVw3hreYvREp",
        "outputId": "c61150f8-0e35-4297-eaae-d2911d45dbc1"
      },
      "source": [
        "#Building a pipeline\n",
        "text_clf = Pipeline([\n",
        "    ('vect', CountVectorizer()),\n",
        "    ('tfidf', TfidfTransformer()),\n",
        "    ('clf', knn),\n",
        "])\n",
        "text_clf.fit(X_train.cleaned_website_text, y_train)\n"
      ],
      "execution_count": null,
      "outputs": [
        {
          "output_type": "execute_result",
          "data": {
            "text/plain": [
              "Pipeline(memory=None,\n",
              "         steps=[('vect',\n",
              "                 CountVectorizer(analyzer='word', binary=False,\n",
              "                                 decode_error='strict',\n",
              "                                 dtype=<class 'numpy.int64'>, encoding='utf-8',\n",
              "                                 input='content', lowercase=True, max_df=1.0,\n",
              "                                 max_features=None, min_df=1,\n",
              "                                 ngram_range=(1, 1), preprocessor=None,\n",
              "                                 stop_words=None, strip_accents=None,\n",
              "                                 token_pattern='(?u)\\\\b\\\\w\\\\w+\\\\b',\n",
              "                                 tokenizer=None, vocabulary=None)),\n",
              "                ('tfidf',\n",
              "                 TfidfTransformer(norm='l2', smooth_idf=True,\n",
              "                                  sublinear_tf=False, use_idf=True)),\n",
              "                ('clf',\n",
              "                 KNeighborsClassifier(algorithm='auto', leaf_size=30,\n",
              "                                      metric='minkowski', metric_params=None,\n",
              "                                      n_jobs=None, n_neighbors=7, p=2,\n",
              "                                      weights='uniform'))],\n",
              "         verbose=False)"
            ]
          },
          "metadata": {
            "tags": []
          },
          "execution_count": 80
        }
      ]
    },
    {
      "cell_type": "code",
      "metadata": {
        "id": "-f5W-D7hgjYv"
      },
      "source": [
        "docs_test = X_val.cleaned_website_text"
      ],
      "execution_count": null,
      "outputs": []
    },
    {
      "cell_type": "code",
      "metadata": {
        "id": "l9MAU1fSu_yS"
      },
      "source": [
        "test_predicted = text_clf.predict(docs_test)"
      ],
      "execution_count": null,
      "outputs": []
    },
    {
      "cell_type": "code",
      "metadata": {
        "colab": {
          "base_uri": "https://localhost:8080/"
        },
        "id": "t4IvgnJxwGAp",
        "outputId": "c8dec646-0f4a-4bf1-ce65-9c4f1d78d467"
      },
      "source": [
        "len(test_predicted)"
      ],
      "execution_count": null,
      "outputs": [
        {
          "output_type": "execute_result",
          "data": {
            "text/plain": [
              "282"
            ]
          },
          "metadata": {
            "tags": []
          },
          "execution_count": 90
        }
      ]
    },
    {
      "cell_type": "code",
      "metadata": {
        "colab": {
          "base_uri": "https://localhost:8080/"
        },
        "id": "hqMjzPx2vIGY",
        "outputId": "dbdc3477-c2d9-43d3-a3ac-06793f1994f0"
      },
      "source": [
        "print('We got an accuracy of',np.mean(test_predicted == y_val)*100, '% over the test data.')"
      ],
      "execution_count": null,
      "outputs": [
        {
          "output_type": "stream",
          "text": [
            "We got an accuracy of 96.09929078014184 % over the test data.\n"
          ],
          "name": "stdout"
        }
      ]
    },
    {
      "cell_type": "markdown",
      "metadata": {
        "id": "AHoNYhsU22wX"
      },
      "source": [
        "# Function definition\n"
      ]
    },
    {
      "cell_type": "code",
      "metadata": {
        "id": "-VEaibT5v0xy"
      },
      "source": [
        ""
      ],
      "execution_count": null,
      "outputs": []
    }
  ]
}